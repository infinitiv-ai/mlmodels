{
  "nbformat": 4,
  "nbformat_minor": 0,
  "metadata": {
    "colab": {
      "name": "AtsPy Feb/2020.ipynb",
      "provenance": []
    },
    "kernelspec": {
      "name": "python3",
      "display_name": "Python 3"
    },
    "accelerator": "GPU"
  },
  "cells": [
    {
      "cell_type": "code",
      "metadata": {
        "id": "LKibabzFGzhA",
        "colab_type": "code",
        "outputId": "5705bea8-058d-4643-97e5-dbacbfbca968",
        "colab": {
          "base_uri": "https://localhost:8080/",
          "height": 1000
        }
      },
      "source": [
        "!pip install atspy"
      ],
      "execution_count": 0,
      "outputs": [
        {
          "output_type": "stream",
          "text": [
            "Collecting atspy\n",
            "\u001b[?25l  Downloading https://files.pythonhosted.org/packages/b2/a6/3fc563f6b52eef2226ff9e33acdddc5a282979df963c280b2e08e3ffd4d9/atspy-0.0.9.tar.gz (54kB)\n",
            "\u001b[K     |████████████████████████████████| 61kB 5.0MB/s \n",
            "\u001b[?25hRequirement already satisfied: pandas in /usr/local/lib/python3.6/dist-packages (from atspy) (0.25.3)\n",
            "Requirement already satisfied: scipy in /usr/local/lib/python3.6/dist-packages (from atspy) (1.4.1)\n",
            "Requirement already satisfied: numba in /usr/local/lib/python3.6/dist-packages (from atspy) (0.47.0)\n",
            "Collecting datetime\n",
            "\u001b[?25l  Downloading https://files.pythonhosted.org/packages/73/22/a5297f3a1f92468cc737f8ce7ba6e5f245fcfafeae810ba37bd1039ea01c/DateTime-4.3-py2.py3-none-any.whl (60kB)\n",
            "\u001b[K     |████████████████████████████████| 61kB 7.6MB/s \n",
            "\u001b[?25hCollecting pmdarima\n",
            "\u001b[?25l  Downloading https://files.pythonhosted.org/packages/4a/1a/32945c19306212fd08547369f40c8965bbc9e18652bb241766dfab398710/pmdarima-1.5.2-cp36-cp36m-manylinux1_x86_64.whl (1.4MB)\n",
            "\u001b[K     |████████████████████████████████| 1.5MB 20.9MB/s \n",
            "\u001b[?25hRequirement already satisfied: pydot in /usr/local/lib/python3.6/dist-packages (from atspy) (1.3.0)\n",
            "Requirement already satisfied: dill in /usr/local/lib/python3.6/dist-packages (from atspy) (0.3.1.1)\n",
            "Collecting pathos\n",
            "\u001b[?25l  Downloading https://files.pythonhosted.org/packages/c6/a2/cd59f73d5ede4f122687bf8f63de5d671c9561e493ca699241f05b038278/pathos-0.2.5.tar.gz (162kB)\n",
            "\u001b[K     |████████████████████████████████| 163kB 52.4MB/s \n",
            "\u001b[?25hRequirement already satisfied: sqlalchemy in /usr/local/lib/python3.6/dist-packages (from atspy) (1.3.13)\n",
            "Requirement already satisfied: matplotlib in /usr/local/lib/python3.6/dist-packages (from atspy) (3.1.2)\n",
            "Requirement already satisfied: xgboost in /usr/local/lib/python3.6/dist-packages (from atspy) (0.90)\n",
            "Requirement already satisfied: sklearn in /usr/local/lib/python3.6/dist-packages (from atspy) (0.0)\n",
            "Collecting mxnet==1.4.1\n",
            "\u001b[?25l  Downloading https://files.pythonhosted.org/packages/58/f4/bc147a1ba7175f9890523ff8f1a928a43ac8a79d5897a067158cac4d092f/mxnet-1.4.1-py2.py3-none-manylinux1_x86_64.whl (28.4MB)\n",
            "\u001b[K     |████████████████████████████████| 28.4MB 106kB/s \n",
            "\u001b[?25hCollecting gluonts\n",
            "\u001b[?25l  Downloading https://files.pythonhosted.org/packages/98/c8/113009b077ca127308470dcd4851e53a6b4ad905fe61f36f28d22ff3a4a5/gluonts-0.4.2-py3-none-any.whl (323kB)\n",
            "\u001b[K     |████████████████████████████████| 327kB 63.5MB/s \n",
            "\u001b[?25hCollecting nbeats-pytorch\n",
            "  Downloading https://files.pythonhosted.org/packages/5c/b1/8718eb745b993d00f176d736e3aeb6850aa97eb6e279ff13493f9e4f3b93/nbeats_pytorch-1.3.0-py3-none-any.whl\n",
            "Collecting seasonal\n",
            "  Downloading https://files.pythonhosted.org/packages/74/ec/1d6053a5bb05bf72a720772575b85a0a1599314e1ca2d6eba9000d75f4b8/seasonal-0.3.1-py2.py3-none-any.whl\n",
            "Collecting tbats\n",
            "\u001b[?25l  Downloading https://files.pythonhosted.org/packages/5e/f2/04545b598030cd72807847d9230a5db619658be3a650e112ed18acb3a122/tbats-1.0.9-py3-none-any.whl (43kB)\n",
            "\u001b[K     |████████████████████████████████| 51kB 7.8MB/s \n",
            "\u001b[?25hCollecting tsfresh\n",
            "\u001b[?25l  Downloading https://files.pythonhosted.org/packages/1e/9a/5ecbfc08b555a706b463ccdd1d215c419a087222b57f31886293fd8a9697/tsfresh-0.13.0-py2.py3-none-any.whl (78kB)\n",
            "\u001b[K     |████████████████████████████████| 81kB 13.8MB/s \n",
            "\u001b[?25hCollecting python-dateutil==2.8.0\n",
            "\u001b[?25l  Downloading https://files.pythonhosted.org/packages/41/17/c62faccbfbd163c7f57f3844689e3a78bae1f403648a6afb1d0866d87fbb/python_dateutil-2.8.0-py2.py3-none-any.whl (226kB)\n",
            "\u001b[K     |████████████████████████████████| 235kB 76.7MB/s \n",
            "\u001b[?25hCollecting numpy==1.17.4\n",
            "\u001b[?25l  Downloading https://files.pythonhosted.org/packages/d2/ab/43e678759326f728de861edbef34b8e2ad1b1490505f20e0d1f0716c3bf4/numpy-1.17.4-cp36-cp36m-manylinux1_x86_64.whl (20.0MB)\n",
            "\u001b[K     |████████████████████████████████| 20.0MB 1.2MB/s \n",
            "\u001b[?25hRequirement already satisfied: pytz>=2017.2 in /usr/local/lib/python3.6/dist-packages (from pandas->atspy) (2018.9)\n",
            "Requirement already satisfied: llvmlite>=0.31.0dev0 in /usr/local/lib/python3.6/dist-packages (from numba->atspy) (0.31.0)\n",
            "Requirement already satisfied: setuptools in /usr/local/lib/python3.6/dist-packages (from numba->atspy) (45.1.0)\n",
            "Collecting zope.interface\n",
            "\u001b[?25l  Downloading https://files.pythonhosted.org/packages/05/16/79fe71428c91673194a21fedcc46f7f1349db799bc2a65da4ffdbe570343/zope.interface-4.7.1-cp36-cp36m-manylinux2010_x86_64.whl (168kB)\n",
            "\u001b[K     |████████████████████████████████| 174kB 65.9MB/s \n",
            "\u001b[?25hRequirement already satisfied: statsmodels>=0.10.0 in /usr/local/lib/python3.6/dist-packages (from pmdarima->atspy) (0.10.2)\n",
            "Requirement already satisfied: scikit-learn>=0.19 in /usr/local/lib/python3.6/dist-packages (from pmdarima->atspy) (0.22.1)\n",
            "Requirement already satisfied: Cython>=0.29 in /usr/local/lib/python3.6/dist-packages (from pmdarima->atspy) (0.29.14)\n",
            "Requirement already satisfied: joblib>=0.11 in /usr/local/lib/python3.6/dist-packages (from pmdarima->atspy) (0.14.1)\n",
            "Requirement already satisfied: pyparsing>=2.1.4 in /usr/local/lib/python3.6/dist-packages (from pydot->atspy) (2.4.6)\n",
            "Collecting ppft>=1.6.6.1\n",
            "\u001b[?25l  Downloading https://files.pythonhosted.org/packages/5b/16/9e83c2aa45949ee9cd6e8731275acdaeb6c624b8728d6598196c65074f3e/ppft-1.6.6.1.tar.gz (63kB)\n",
            "\u001b[K     |████████████████████████████████| 71kB 13.1MB/s \n",
            "\u001b[?25hCollecting pox>=0.2.7\n",
            "\u001b[?25l  Downloading https://files.pythonhosted.org/packages/6c/9a/957818485aa165ce93b646aeb20181215bb415c9dca8345bdbe23b08ae67/pox-0.2.7.tar.gz (110kB)\n",
            "\u001b[K     |████████████████████████████████| 112kB 66.9MB/s \n",
            "\u001b[?25hRequirement already satisfied: multiprocess>=0.70.9 in /usr/local/lib/python3.6/dist-packages (from pathos->atspy) (0.70.9)\n",
            "Requirement already satisfied: cycler>=0.10 in /usr/local/lib/python3.6/dist-packages (from matplotlib->atspy) (0.10.0)\n",
            "Requirement already satisfied: kiwisolver>=1.0.1 in /usr/local/lib/python3.6/dist-packages (from matplotlib->atspy) (1.1.0)\n",
            "Requirement already satisfied: requests>=2.20.0 in /usr/local/lib/python3.6/dist-packages (from mxnet==1.4.1->atspy) (2.21.0)\n",
            "Collecting graphviz<0.9.0,>=0.8.1\n",
            "  Downloading https://files.pythonhosted.org/packages/53/39/4ab213673844e0c004bed8a0781a0721a3f6bb23eb8854ee75c236428892/graphviz-0.8.4-py2.py3-none-any.whl\n",
            "Requirement already satisfied: tqdm~=4.23 in /usr/local/lib/python3.6/dist-packages (from gluonts->atspy) (4.28.1)\n",
            "Collecting ujson~=1.35\n",
            "\u001b[?25l  Downloading https://files.pythonhosted.org/packages/16/c4/79f3409bc710559015464e5f49b9879430d8f87498ecdc335899732e5377/ujson-1.35.tar.gz (192kB)\n",
            "\u001b[K     |████████████████████████████████| 194kB 65.2MB/s \n",
            "\u001b[?25hRequirement already satisfied: boto3~=1.0 in /usr/local/lib/python3.6/dist-packages (from gluonts->atspy) (1.11.9)\n",
            "Collecting pydantic~=1.1\n",
            "\u001b[?25l  Downloading https://files.pythonhosted.org/packages/be/9a/a2d9613a70051615a84df6e9d697aad9787ba978bdeb4ad46c754457b3e1/pydantic-1.4-cp36-cp36m-manylinux2010_x86_64.whl (7.5MB)\n",
            "\u001b[K     |████████████████████████████████| 7.5MB 58.1MB/s \n",
            "\u001b[?25hRequirement already satisfied: holidays<0.10,>=0.9 in /usr/local/lib/python3.6/dist-packages (from gluonts->atspy) (0.9.12)\n",
            "Requirement already satisfied: torch in /usr/local/lib/python3.6/dist-packages (from nbeats-pytorch->atspy) (1.4.0)\n",
            "Requirement already satisfied: torchvision in /usr/local/lib/python3.6/dist-packages (from nbeats-pytorch->atspy) (0.5.0)\n",
            "Requirement already satisfied: patsy>=0.4.1 in /usr/local/lib/python3.6/dist-packages (from tsfresh->atspy) (0.5.1)\n",
            "Requirement already satisfied: distributed>=1.18.3 in /usr/local/lib/python3.6/dist-packages (from tsfresh->atspy) (1.25.3)\n",
            "Requirement already satisfied: dask>=0.15.2 in /usr/local/lib/python3.6/dist-packages (from tsfresh->atspy) (2.9.2)\n",
            "Requirement already satisfied: six>=1.5 in /usr/local/lib/python3.6/dist-packages (from python-dateutil==2.8.0->atspy) (1.12.0)\n",
            "Requirement already satisfied: urllib3<1.25,>=1.21.1 in /usr/local/lib/python3.6/dist-packages (from requests>=2.20.0->mxnet==1.4.1->atspy) (1.24.3)\n",
            "Requirement already satisfied: chardet<3.1.0,>=3.0.2 in /usr/local/lib/python3.6/dist-packages (from requests>=2.20.0->mxnet==1.4.1->atspy) (3.0.4)\n",
            "Requirement already satisfied: certifi>=2017.4.17 in /usr/local/lib/python3.6/dist-packages (from requests>=2.20.0->mxnet==1.4.1->atspy) (2019.11.28)\n",
            "Requirement already satisfied: idna<2.9,>=2.5 in /usr/local/lib/python3.6/dist-packages (from requests>=2.20.0->mxnet==1.4.1->atspy) (2.8)\n",
            "Requirement already satisfied: botocore<1.15.0,>=1.14.9 in /usr/local/lib/python3.6/dist-packages (from boto3~=1.0->gluonts->atspy) (1.14.9)\n",
            "Requirement already satisfied: s3transfer<0.4.0,>=0.3.0 in /usr/local/lib/python3.6/dist-packages (from boto3~=1.0->gluonts->atspy) (0.3.2)\n",
            "Requirement already satisfied: jmespath<1.0.0,>=0.7.1 in /usr/local/lib/python3.6/dist-packages (from boto3~=1.0->gluonts->atspy) (0.9.4)\n",
            "Requirement already satisfied: dataclasses>=0.6; python_version < \"3.7\" in /usr/local/lib/python3.6/dist-packages (from pydantic~=1.1->gluonts->atspy) (0.7)\n",
            "Requirement already satisfied: pillow>=4.1.1 in /usr/local/lib/python3.6/dist-packages (from torchvision->nbeats-pytorch->atspy) (6.2.2)\n",
            "Requirement already satisfied: click>=6.6 in /usr/local/lib/python3.6/dist-packages (from distributed>=1.18.3->tsfresh->atspy) (7.0)\n",
            "Requirement already satisfied: psutil>=5.0 in /usr/local/lib/python3.6/dist-packages (from distributed>=1.18.3->tsfresh->atspy) (5.4.8)\n",
            "Requirement already satisfied: toolz>=0.7.4 in /usr/local/lib/python3.6/dist-packages (from distributed>=1.18.3->tsfresh->atspy) (0.10.0)\n",
            "Requirement already satisfied: pyyaml in /usr/local/lib/python3.6/dist-packages (from distributed>=1.18.3->tsfresh->atspy) (3.13)\n",
            "Requirement already satisfied: cloudpickle>=0.2.2 in /usr/local/lib/python3.6/dist-packages (from distributed>=1.18.3->tsfresh->atspy) (1.2.2)\n",
            "Requirement already satisfied: sortedcontainers!=2.0.0,!=2.0.1 in /usr/local/lib/python3.6/dist-packages (from distributed>=1.18.3->tsfresh->atspy) (2.1.0)\n",
            "Requirement already satisfied: zict>=0.1.3 in /usr/local/lib/python3.6/dist-packages (from distributed>=1.18.3->tsfresh->atspy) (1.0.0)\n",
            "Requirement already satisfied: tornado>=4.5.1 in /usr/local/lib/python3.6/dist-packages (from distributed>=1.18.3->tsfresh->atspy) (4.5.3)\n",
            "Requirement already satisfied: tblib in /usr/local/lib/python3.6/dist-packages (from distributed>=1.18.3->tsfresh->atspy) (1.6.0)\n",
            "Requirement already satisfied: msgpack in /usr/local/lib/python3.6/dist-packages (from distributed>=1.18.3->tsfresh->atspy) (0.5.6)\n",
            "Requirement already satisfied: docutils<0.16,>=0.10 in /usr/local/lib/python3.6/dist-packages (from botocore<1.15.0,>=1.14.9->boto3~=1.0->gluonts->atspy) (0.15.2)\n",
            "Requirement already satisfied: heapdict in /usr/local/lib/python3.6/dist-packages (from zict>=0.1.3->distributed>=1.18.3->tsfresh->atspy) (1.0.1)\n",
            "Building wheels for collected packages: atspy, pathos, ppft, pox, ujson\n",
            "  Building wheel for atspy (setup.py) ... \u001b[?25l\u001b[?25hdone\n",
            "  Created wheel for atspy: filename=atspy-0.0.9-cp36-none-any.whl size=67575 sha256=1035faa251c802c39059296b5e41d1bf149e43603a58bf466ff349ae5eff38d8\n",
            "  Stored in directory: /root/.cache/pip/wheels/31/0a/6f/85f4b8336a4613f1a0ccc4e93626be658b1d1ac7ef083cd30c\n",
            "  Building wheel for pathos (setup.py) ... \u001b[?25l\u001b[?25hdone\n",
            "  Created wheel for pathos: filename=pathos-0.2.5-cp36-none-any.whl size=77577 sha256=83c0d3aa0dfeaf09461669eeefed46acd5e6503f2460a287982aee865b010427\n",
            "  Stored in directory: /root/.cache/pip/wheels/61/6d/83/90b0c3d2c271da2c4850731e894798c98f8dbedbac74e8eff0\n",
            "  Building wheel for ppft (setup.py) ... \u001b[?25l\u001b[?25hdone\n",
            "  Created wheel for ppft: filename=ppft-1.6.6.1-cp36-none-any.whl size=64708 sha256=158d97d2c02372f818ba1cb0fe717e64ac640cf545b6d373414ecbe5e050c5e9\n",
            "  Stored in directory: /root/.cache/pip/wheels/6a/0c/53/ea8dd63608f75c1e7a64d5c5ce5d1e6d04f15ae8a6fce4c2a0\n",
            "  Building wheel for pox (setup.py) ... \u001b[?25l\u001b[?25hdone\n",
            "  Created wheel for pox: filename=pox-0.2.7-cp36-none-any.whl size=28303 sha256=8a2857548a54625375679ec5b752b0089ef343abd4bb9985532abb7a6c27772e\n",
            "  Stored in directory: /root/.cache/pip/wheels/47/10/7b/0e916f6246fe7cf7d3acd25a6d273ecf3f97888cea073a8ac2\n",
            "  Building wheel for ujson (setup.py) ... \u001b[?25l\u001b[?25hdone\n",
            "  Created wheel for ujson: filename=ujson-1.35-cp36-cp36m-linux_x86_64.whl size=68035 sha256=593cce67833729edbe0ca0bd6d4f6f9d45bac203c035f47efd9c7bcfe1af85a6\n",
            "  Stored in directory: /root/.cache/pip/wheels/28/77/e4/0311145b9c2e2f01470e744855131f9e34d6919687550f87d1\n",
            "Successfully built atspy pathos ppft pox ujson\n",
            "\u001b[31mERROR: datascience 0.10.6 has requirement folium==0.2.1, but you'll have folium 0.8.3 which is incompatible.\u001b[0m\n",
            "\u001b[31mERROR: albumentations 0.1.12 has requirement imgaug<0.2.7,>=0.2.5, but you'll have imgaug 0.2.9 which is incompatible.\u001b[0m\n",
            "\u001b[31mERROR: mxnet 1.4.1 has requirement numpy<1.15.0,>=1.8.2, but you'll have numpy 1.17.4 which is incompatible.\u001b[0m\n",
            "\u001b[31mERROR: nbeats-pytorch 1.3.0 has requirement numpy==1.16.2, but you'll have numpy 1.17.4 which is incompatible.\u001b[0m\n",
            "Installing collected packages: zope.interface, datetime, numpy, pmdarima, ppft, pox, pathos, graphviz, mxnet, ujson, pydantic, python-dateutil, gluonts, nbeats-pytorch, seasonal, tbats, tsfresh, atspy\n",
            "  Found existing installation: numpy 1.17.5\n",
            "    Uninstalling numpy-1.17.5:\n",
            "      Successfully uninstalled numpy-1.17.5\n",
            "  Found existing installation: graphviz 0.10.1\n",
            "    Uninstalling graphviz-0.10.1:\n",
            "      Successfully uninstalled graphviz-0.10.1\n",
            "  Found existing installation: python-dateutil 2.6.1\n",
            "    Uninstalling python-dateutil-2.6.1:\n",
            "      Successfully uninstalled python-dateutil-2.6.1\n",
            "Successfully installed atspy-0.0.9 datetime-4.3 gluonts-0.4.2 graphviz-0.8.4 mxnet-1.4.1 nbeats-pytorch-1.3.0 numpy-1.17.4 pathos-0.2.5 pmdarima-1.5.2 pox-0.2.7 ppft-1.6.6.1 pydantic-1.4 python-dateutil-2.8.0 seasonal-0.3.1 tbats-1.0.9 tsfresh-0.13.0 ujson-1.35 zope.interface-4.7.1\n"
          ],
          "name": "stdout"
        },
        {
          "output_type": "display_data",
          "data": {
            "application/vnd.colab-display-data+json": {
              "pip_warning": {
                "packages": [
                  "dateutil",
                  "numpy"
                ]
              }
            }
          },
          "metadata": {
            "tags": []
          }
        }
      ]
    },
    {
      "cell_type": "code",
      "metadata": {
        "id": "fI_BWrPVGsBA",
        "colab_type": "code",
        "outputId": "5da67d48-5782-4ea1-a8f8-352882fe4059",
        "colab": {
          "base_uri": "https://localhost:8080/",
          "height": 238
        }
      },
      "source": [
        "import pandas as pd\n",
        "df = pd.read_csv(\"https://raw.githubusercontent.com/firmai/random-assets-two/master/ts/monthly-beer-australia.csv\")\n",
        "df.Month = pd.to_datetime(df.Month)\n",
        "df = df.set_index(\"Month\")\n",
        "df.head()"
      ],
      "execution_count": 0,
      "outputs": [
        {
          "output_type": "execute_result",
          "data": {
            "text/html": [
              "<div>\n",
              "<style scoped>\n",
              "    .dataframe tbody tr th:only-of-type {\n",
              "        vertical-align: middle;\n",
              "    }\n",
              "\n",
              "    .dataframe tbody tr th {\n",
              "        vertical-align: top;\n",
              "    }\n",
              "\n",
              "    .dataframe thead th {\n",
              "        text-align: right;\n",
              "    }\n",
              "</style>\n",
              "<table border=\"1\" class=\"dataframe\">\n",
              "  <thead>\n",
              "    <tr style=\"text-align: right;\">\n",
              "      <th></th>\n",
              "      <th>Megaliters</th>\n",
              "    </tr>\n",
              "    <tr>\n",
              "      <th>Month</th>\n",
              "      <th></th>\n",
              "    </tr>\n",
              "  </thead>\n",
              "  <tbody>\n",
              "    <tr>\n",
              "      <th>1956-01-01</th>\n",
              "      <td>93.2</td>\n",
              "    </tr>\n",
              "    <tr>\n",
              "      <th>1956-02-01</th>\n",
              "      <td>96.0</td>\n",
              "    </tr>\n",
              "    <tr>\n",
              "      <th>1956-03-01</th>\n",
              "      <td>95.2</td>\n",
              "    </tr>\n",
              "    <tr>\n",
              "      <th>1956-04-01</th>\n",
              "      <td>77.1</td>\n",
              "    </tr>\n",
              "    <tr>\n",
              "      <th>1956-05-01</th>\n",
              "      <td>70.9</td>\n",
              "    </tr>\n",
              "  </tbody>\n",
              "</table>\n",
              "</div>"
            ],
            "text/plain": [
              "            Megaliters\n",
              "Month                 \n",
              "1956-01-01        93.2\n",
              "1956-02-01        96.0\n",
              "1956-03-01        95.2\n",
              "1956-04-01        77.1\n",
              "1956-05-01        70.9"
            ]
          },
          "metadata": {
            "tags": []
          },
          "execution_count": 3
        }
      ]
    },
    {
      "cell_type": "code",
      "metadata": {
        "id": "9K_YU202HCjR",
        "colab_type": "code",
        "outputId": "6f996ac2-7931-4d52-8946-009bc8539dc5",
        "colab": {
          "base_uri": "https://localhost:8080/",
          "height": 34
        }
      },
      "source": [
        "from atspy import AutomatedModel"
      ],
      "execution_count": 0,
      "outputs": [
        {
          "output_type": "stream",
          "text": [
            "INFO:root:Using CPU\n"
          ],
          "name": "stderr"
        }
      ]
    },
    {
      "cell_type": "code",
      "metadata": {
        "id": "EyEp_ewfS9t_",
        "colab_type": "code",
        "colab": {}
      },
      "source": [
        "1. ARIMA - Automated ARIMA Modelling\n",
        "1. Prophet - Modeling Multiple Seasonality With Linear or Non-linear Growth\n",
        "1. HWAAS - Exponential Smoothing With Additive Trend and Additive Seasonality\n",
        "1. HWAMS - Exponential Smoothing with Additive Trend and Multiplicative Seasonality\n",
        "1. PYAF - Feature Generating Model (slow and underforms)\n",
        "1. NBEATS -  Neural basis expansion analysis (now fixed at 20 Epochs)\n",
        "1. Gluonts - RNN-based Model (now fixed at 20 Epochs)\n",
        "1. TATS - Seasonal and Trend no Box Cox\n",
        "1. TBAT - Trend and Box Cox\n",
        "1. TBATS1 - Trend, Seasonal (one), and Box Cox\n",
        "1. TBATP1 - TBATS1 but Seasonal Inference is Hardcoded by Periodicity\n",
        "1. TBATS2 - TBATS1 With Two Seasonal Periods"
      ],
      "execution_count": 0,
      "outputs": []
    },
    {
      "cell_type": "code",
      "metadata": {
        "id": "KWfyc4ZFHMXa",
        "colab_type": "code",
        "outputId": "f913685d-f232-4c7b-9629-c7eb09dead92",
        "colab": {
          "base_uri": "https://localhost:8080/",
          "height": 1000
        }
      },
      "source": [
        "model_list=[\"HWAMS\",\"HWAAS\",\"TBAT\"]\n",
        "\n",
        "am = AutomatedModel(df = df , model_list=model_list, season=\"infer_from_data\",forecast_len=60 )\n",
        "forecast_in, performance = am.forecast_insample()\n",
        "forecast_out = am.forecast_outsample()\n",
        "all_ensemble_in, all_ensemble_out, all_performance = am.ensemble(forecast_in, forecast_out)"
      ],
      "execution_count": 0,
      "outputs": [
        {
          "output_type": "stream",
          "text": [
            "<class 'pandas.core.frame.DataFrame'>\n",
            "The data has been successfully parsed by infering a frequency, and establishing a 'Date' index and 'Target' column.\n",
            "357\n",
            "An insample split of training size 357 and testing size 119 has been constructed\n",
            "Model HWAMS is being trained for in sample prediction\n",
            "Model HWAAS is being trained for in sample prediction\n",
            "Model TBAT is being trained for in sample prediction\n",
            "Model HWAMS is being used to forcast in sample\n",
            "Model HWAAS is being used to forcast in sample\n",
            "Model TBAT is being used to forcast in sample\n",
            "Successfully finished in sample forecast\n",
            "<class 'pandas.core.frame.DataFrame'>\n",
            "The data has been successfully parsed by infering a frequency, and establishing a 'Date' index and 'Target' column.\n",
            "Model HWAMS is being trained for out of sample prediction\n",
            "Model HWAAS is being trained for out of sample prediction\n",
            "Model TBAT is being trained for out of sample prediction\n",
            "Model HWAMS is being used to forcast out of sample\n",
            "Model HWAAS is being used to forcast out of sample\n",
            "Model TBAT is being used to forcast out of sample\n",
            "Successfully finished out of sample forecast\n",
            "Building LightGBM Ensemble from TS data (ensemble_lgb)\n",
            "Building LightGBM Ensemble from PCA reduced TSFresh Features (ensemble_ts). This can take a long time.\n",
            "LightGBM ensemble have been successfully built\n"
          ],
          "name": "stdout"
        },
        {
          "output_type": "stream",
          "text": [
            "INFO:numexpr.utils:NumExpr defaulting to 2 threads.\n",
            "WARNING:tsfresh.feature_selection.relevance:Infered regression as machine learning task\n"
          ],
          "name": "stderr"
        },
        {
          "output_type": "stream",
          "text": [
            "305  variables are found to be almost constant\n"
          ],
          "name": "stdout"
        },
        {
          "output_type": "stream",
          "text": [
            "WARNING:tsfresh.feature_selection.significance_tests:[target_binary_feature_binary_test] A binary feature should have only values 1 and 0 (incl. True and False). Instead found {1.0, -1.0} in feature ''HWAAS__agg_linear_trend__f_agg_\"max\"__chunk_len_10__attr_\"rvalue\"''.\n",
            "WARNING:tsfresh.feature_selection.significance_tests:[target_binary_feature_binary_test] A binary feature should have only values 1 and 0 (incl. True and False). Instead found {1.0, -1.0} in feature ''HWAAS__agg_linear_trend__f_agg_\"mean\"__chunk_len_10__attr_\"rvalue\"''.\n",
            "WARNING:tsfresh.feature_selection.significance_tests:[target_binary_feature_binary_test] A binary feature should have only values 1 and 0 (incl. True and False). Instead found {0.09531017980432521, 0.030716580297483365} in feature ''HWAAS__approximate_entropy__m_2__r_0.3''.\n",
            "WARNING:tsfresh.feature_selection.significance_tests:[target_binary_feature_binary_test] A binary feature should have only values 1 and 0 (incl. True and False). Instead found {0.0, 180.0} in feature ''HWAAS__fft_coefficient__coeff_6__attr_\"angle\"''.\n",
            "WARNING:tsfresh.feature_selection.significance_tests:[target_binary_feature_binary_test] A binary feature should have only values 1 and 0 (incl. True and False). Instead found {0.0, 2.0} in feature ''HWAAS__augmented_dickey_fuller__attr_\"usedlag\"''.\n",
            "WARNING:tsfresh.feature_selection.significance_tests:[target_binary_feature_binary_test] A binary feature should have only values 1 and 0 (incl. True and False). Instead found {0.16666666666666666, 0.08333333333333333} in feature ''HWAAS__index_mass_quantile__q_0.1''.\n",
            "WARNING:tsfresh.feature_selection.significance_tests:[target_binary_feature_binary_test] A binary feature should have only values 1 and 0 (incl. True and False). Instead found {1.0, 2.0} in feature ''HWAAS__number_peaks__n_1''.\n",
            "WARNING:tsfresh.feature_selection.significance_tests:[target_binary_feature_binary_test] A binary feature should have only values 1 and 0 (incl. True and False). Instead found {0.4166666666666667, 0.5} in feature ''HWAAS__index_mass_quantile__q_0.4''.\n",
            "WARNING:tsfresh.feature_selection.significance_tests:[target_binary_feature_binary_test] A binary feature should have only values 1 and 0 (incl. True and False). Instead found {2.0, 3.0} in feature ''HWAAS__number_cwt_peaks__n_1''.\n",
            "WARNING:tsfresh.feature_selection.significance_tests:[target_binary_feature_binary_test] A binary feature should have only values 1 and 0 (incl. True and False). Instead found {0.5833333333333334, 0.6666666666666666} in feature ''HWAAS__index_mass_quantile__q_0.6''.\n",
            "WARNING:tsfresh.feature_selection.significance_tests:[target_binary_feature_binary_test] A binary feature should have only values 1 and 0 (incl. True and False). Instead found {0.3333333333333333, 0.4166666666666667} in feature ''HWAAS__index_mass_quantile__q_0.3''.\n",
            "WARNING:tsfresh.feature_selection.significance_tests:[target_binary_feature_binary_test] A binary feature should have only values 1 and 0 (incl. True and False). Instead found {1.0, -1.0} in feature ''HWAMS__agg_linear_trend__f_agg_\"max\"__chunk_len_10__attr_\"rvalue\"''.\n",
            "WARNING:tsfresh.feature_selection.significance_tests:[target_binary_feature_binary_test] A binary feature should have only values 1 and 0 (incl. True and False). Instead found {0.6666666666666666, 0.75} in feature ''HWAAS__index_mass_quantile__q_0.7''.\n",
            "WARNING:tsfresh.feature_selection.significance_tests:[target_binary_feature_binary_test] A binary feature should have only values 1 and 0 (incl. True and False). Instead found {0.9166666666666666, 1.0} in feature ''HWAAS__index_mass_quantile__q_0.9''.\n",
            "WARNING:tsfresh.feature_selection.significance_tests:[target_binary_feature_binary_test] A binary feature should have only values 1 and 0 (incl. True and False). Instead found {0.25, 0.16666666666666666} in feature ''HWAAS__index_mass_quantile__q_0.2''.\n",
            "WARNING:tsfresh.feature_selection.significance_tests:[target_binary_feature_binary_test] A binary feature should have only values 1 and 0 (incl. True and False). Instead found {0.3333333333333333, 0.25} in feature ''HWAAS__ratio_beyond_r_sigma__r_1''.\n",
            "WARNING:tsfresh.feature_selection.significance_tests:[target_binary_feature_binary_test] A binary feature should have only values 1 and 0 (incl. True and False). Instead found {0.0, 180.0} in feature ''HWAMS__fft_coefficient__coeff_6__attr_\"angle\"''.\n",
            "WARNING:tsfresh.feature_selection.significance_tests:[target_binary_feature_binary_test] A binary feature should have only values 1 and 0 (incl. True and False). Instead found {1.0, -1.0} in feature ''HWAMS__agg_linear_trend__f_agg_\"min\"__chunk_len_10__attr_\"rvalue\"''.\n",
            "WARNING:tsfresh.feature_selection.significance_tests:[target_binary_feature_binary_test] A binary feature should have only values 1 and 0 (incl. True and False). Instead found {0.0, 2.0} in feature ''HWAMS__augmented_dickey_fuller__attr_\"usedlag\"''.\n",
            "WARNING:tsfresh.feature_selection.significance_tests:[target_binary_feature_binary_test] A binary feature should have only values 1 and 0 (incl. True and False). Instead found {1.0, -1.0} in feature ''HWAMS__agg_linear_trend__f_agg_\"mean\"__chunk_len_10__attr_\"rvalue\"''.\n",
            "WARNING:tsfresh.feature_selection.significance_tests:[target_binary_feature_binary_test] A binary feature should have only values 1 and 0 (incl. True and False). Instead found {0.3333333333333333, 0.4166666666666667} in feature ''HWAMS__index_mass_quantile__q_0.3''.\n",
            "WARNING:tsfresh.feature_selection.significance_tests:[target_binary_feature_binary_test] A binary feature should have only values 1 and 0 (incl. True and False). Instead found {0.25, 0.16666666666666666} in feature ''HWAMS__index_mass_quantile__q_0.2''.\n",
            "WARNING:tsfresh.feature_selection.significance_tests:[target_binary_feature_binary_test] A binary feature should have only values 1 and 0 (incl. True and False). Instead found {0.4166666666666667, 0.5} in feature ''HWAMS__index_mass_quantile__q_0.4''.\n",
            "WARNING:tsfresh.feature_selection.significance_tests:[target_binary_feature_binary_test] A binary feature should have only values 1 and 0 (incl. True and False). Instead found {0.5833333333333334, 0.6666666666666666} in feature ''HWAMS__index_mass_quantile__q_0.6''.\n",
            "WARNING:tsfresh.feature_selection.significance_tests:[target_binary_feature_binary_test] A binary feature should have only values 1 and 0 (incl. True and False). Instead found {0.9166666666666666, 1.0} in feature ''HWAMS__index_mass_quantile__q_0.9''.\n",
            "WARNING:tsfresh.feature_selection.significance_tests:[target_binary_feature_binary_test] A binary feature should have only values 1 and 0 (incl. True and False). Instead found {0.6666666666666666, 0.75} in feature ''HWAMS__index_mass_quantile__q_0.7''.\n",
            "WARNING:tsfresh.feature_selection.significance_tests:[target_binary_feature_binary_test] A binary feature should have only values 1 and 0 (incl. True and False). Instead found {2.0, 3.0} in feature ''HWAMS__number_cwt_peaks__n_1''.\n",
            "WARNING:tsfresh.feature_selection.significance_tests:[target_binary_feature_binary_test] A binary feature should have only values 1 and 0 (incl. True and False). Instead found {0.16666666666666666, 0.08333333333333333} in feature ''HWAMS__index_mass_quantile__q_0.1''.\n",
            "WARNING:tsfresh.feature_selection.significance_tests:[target_binary_feature_binary_test] A binary feature should have only values 1 and 0 (incl. True and False). Instead found {0.08333333333333333, 0.16666666666666666} in feature ''HWAMS__ratio_beyond_r_sigma__r_1.5''.\n",
            "WARNING:tsfresh.feature_selection.significance_tests:[target_binary_feature_binary_test] A binary feature should have only values 1 and 0 (incl. True and False). Instead found {2.0, 3.0} in feature ''HWAMS__number_peaks__n_1''.\n",
            "WARNING:tsfresh.utilities.dataframe_functions:The columns ['HWAAS__agg_linear_trend__f_agg_\"max\"__chunk_len_50__attr_\"intercept\"'\n",
            " 'HWAAS__agg_linear_trend__f_agg_\"max\"__chunk_len_50__attr_\"rvalue\"'\n",
            " 'HWAAS__agg_linear_trend__f_agg_\"max\"__chunk_len_50__attr_\"slope\"' ...\n",
            " 'TBAT__fft_coefficient__coeff_9__attr_\"imag\"'\n",
            " 'TBAT__fft_coefficient__coeff_9__attr_\"real\"'\n",
            " 'TBAT__spkt_welch_density__coeff_8'] did not have any finite values. Filling with zeros.\n"
          ],
          "name": "stderr"
        },
        {
          "output_type": "stream",
          "text": [
            "LightGBM ensemble have been successfully built\n",
            "Building Standard First Level Ensemble\n",
            "Building Final Multi-level Ensemble\n"
          ],
          "name": "stdout"
        }
      ]
    },
    {
      "cell_type": "code",
      "metadata": {
        "id": "BvM1I7ABSADt",
        "colab_type": "code",
        "outputId": "c65375b2-56fe-45c0-e0ad-4785060c6919",
        "colab": {
          "base_uri": "https://localhost:8080/",
          "height": 238
        }
      },
      "source": [
        "forecast_in.head()"
      ],
      "execution_count": 0,
      "outputs": [
        {
          "output_type": "execute_result",
          "data": {
            "text/html": [
              "<div>\n",
              "<style scoped>\n",
              "    .dataframe tbody tr th:only-of-type {\n",
              "        vertical-align: middle;\n",
              "    }\n",
              "\n",
              "    .dataframe tbody tr th {\n",
              "        vertical-align: top;\n",
              "    }\n",
              "\n",
              "    .dataframe thead th {\n",
              "        text-align: right;\n",
              "    }\n",
              "</style>\n",
              "<table border=\"1\" class=\"dataframe\">\n",
              "  <thead>\n",
              "    <tr style=\"text-align: right;\">\n",
              "      <th></th>\n",
              "      <th>Target</th>\n",
              "      <th>HWAMS</th>\n",
              "      <th>HWAAS</th>\n",
              "      <th>TBAT</th>\n",
              "    </tr>\n",
              "    <tr>\n",
              "      <th>Date</th>\n",
              "      <th></th>\n",
              "      <th></th>\n",
              "      <th></th>\n",
              "      <th></th>\n",
              "    </tr>\n",
              "  </thead>\n",
              "  <tbody>\n",
              "    <tr>\n",
              "      <th>1985-10-01</th>\n",
              "      <td>181.6</td>\n",
              "      <td>161.962148</td>\n",
              "      <td>162.391653</td>\n",
              "      <td>148.410071</td>\n",
              "    </tr>\n",
              "    <tr>\n",
              "      <th>1985-11-01</th>\n",
              "      <td>182.0</td>\n",
              "      <td>174.688055</td>\n",
              "      <td>173.191756</td>\n",
              "      <td>147.999237</td>\n",
              "    </tr>\n",
              "    <tr>\n",
              "      <th>1985-12-01</th>\n",
              "      <td>190.0</td>\n",
              "      <td>189.728744</td>\n",
              "      <td>187.649575</td>\n",
              "      <td>147.589541</td>\n",
              "    </tr>\n",
              "    <tr>\n",
              "      <th>1986-01-01</th>\n",
              "      <td>161.2</td>\n",
              "      <td>155.077205</td>\n",
              "      <td>154.817215</td>\n",
              "      <td>147.180980</td>\n",
              "    </tr>\n",
              "    <tr>\n",
              "      <th>1986-02-01</th>\n",
              "      <td>155.5</td>\n",
              "      <td>148.054292</td>\n",
              "      <td>147.477692</td>\n",
              "      <td>146.773549</td>\n",
              "    </tr>\n",
              "  </tbody>\n",
              "</table>\n",
              "</div>"
            ],
            "text/plain": [
              "            Target       HWAMS       HWAAS        TBAT\n",
              "Date                                                  \n",
              "1985-10-01   181.6  161.962148  162.391653  148.410071\n",
              "1985-11-01   182.0  174.688055  173.191756  147.999237\n",
              "1985-12-01   190.0  189.728744  187.649575  147.589541\n",
              "1986-01-01   161.2  155.077205  154.817215  147.180980\n",
              "1986-02-01   155.5  148.054292  147.477692  146.773549"
            ]
          },
          "metadata": {
            "tags": []
          },
          "execution_count": 5
        }
      ]
    },
    {
      "cell_type": "code",
      "metadata": {
        "id": "CdKZNjauyJ7M",
        "colab_type": "code",
        "colab": {
          "base_uri": "https://localhost:8080/",
          "height": 238
        },
        "outputId": "4991adb7-8063-4fa9-f7d6-ab21930cfbdd"
      },
      "source": [
        "forecast_out.head()"
      ],
      "execution_count": 8,
      "outputs": [
        {
          "output_type": "execute_result",
          "data": {
            "text/html": [
              "<div>\n",
              "<style scoped>\n",
              "    .dataframe tbody tr th:only-of-type {\n",
              "        vertical-align: middle;\n",
              "    }\n",
              "\n",
              "    .dataframe tbody tr th {\n",
              "        vertical-align: top;\n",
              "    }\n",
              "\n",
              "    .dataframe thead th {\n",
              "        text-align: right;\n",
              "    }\n",
              "</style>\n",
              "<table border=\"1\" class=\"dataframe\">\n",
              "  <thead>\n",
              "    <tr style=\"text-align: right;\">\n",
              "      <th></th>\n",
              "      <th>HWAMS</th>\n",
              "      <th>HWAAS</th>\n",
              "      <th>TBAT</th>\n",
              "    </tr>\n",
              "    <tr>\n",
              "      <th>Date</th>\n",
              "      <th></th>\n",
              "      <th></th>\n",
              "      <th></th>\n",
              "    </tr>\n",
              "  </thead>\n",
              "  <tbody>\n",
              "    <tr>\n",
              "      <th>1995-09-01</th>\n",
              "      <td>137.518755</td>\n",
              "      <td>137.133938</td>\n",
              "      <td>142.906275</td>\n",
              "    </tr>\n",
              "    <tr>\n",
              "      <th>1995-10-01</th>\n",
              "      <td>164.136220</td>\n",
              "      <td>165.079612</td>\n",
              "      <td>142.865575</td>\n",
              "    </tr>\n",
              "    <tr>\n",
              "      <th>1995-11-01</th>\n",
              "      <td>178.671684</td>\n",
              "      <td>180.009560</td>\n",
              "      <td>142.827110</td>\n",
              "    </tr>\n",
              "    <tr>\n",
              "      <th>1995-12-01</th>\n",
              "      <td>184.175954</td>\n",
              "      <td>185.715043</td>\n",
              "      <td>142.790757</td>\n",
              "    </tr>\n",
              "    <tr>\n",
              "      <th>1996-01-01</th>\n",
              "      <td>147.166448</td>\n",
              "      <td>147.440026</td>\n",
              "      <td>142.756399</td>\n",
              "    </tr>\n",
              "  </tbody>\n",
              "</table>\n",
              "</div>"
            ],
            "text/plain": [
              "                 HWAMS       HWAAS        TBAT\n",
              "Date                                          \n",
              "1995-09-01  137.518755  137.133938  142.906275\n",
              "1995-10-01  164.136220  165.079612  142.865575\n",
              "1995-11-01  178.671684  180.009560  142.827110\n",
              "1995-12-01  184.175954  185.715043  142.790757\n",
              "1996-01-01  147.166448  147.440026  142.756399"
            ]
          },
          "metadata": {
            "tags": []
          },
          "execution_count": 8
        }
      ]
    },
    {
      "cell_type": "code",
      "metadata": {
        "id": "L6-vdrTqR5Pd",
        "colab_type": "code",
        "outputId": "d6d63d1d-41af-45b6-e6a7-56f9fd3c3dfd",
        "colab": {
          "base_uri": "https://localhost:8080/",
          "height": 143
        }
      },
      "source": [
        "performance"
      ],
      "execution_count": 0,
      "outputs": [
        {
          "output_type": "execute_result",
          "data": {
            "text/html": [
              "<div>\n",
              "<style scoped>\n",
              "    .dataframe tbody tr th:only-of-type {\n",
              "        vertical-align: middle;\n",
              "    }\n",
              "\n",
              "    .dataframe tbody tr th {\n",
              "        vertical-align: top;\n",
              "    }\n",
              "\n",
              "    .dataframe thead th {\n",
              "        text-align: right;\n",
              "    }\n",
              "</style>\n",
              "<table border=\"1\" class=\"dataframe\">\n",
              "  <thead>\n",
              "    <tr style=\"text-align: right;\">\n",
              "      <th></th>\n",
              "      <th>Target</th>\n",
              "      <th>HWAMS</th>\n",
              "      <th>HWAAS</th>\n",
              "      <th>TBAT</th>\n",
              "    </tr>\n",
              "  </thead>\n",
              "  <tbody>\n",
              "    <tr>\n",
              "      <th>rmse</th>\n",
              "      <td>0.000000</td>\n",
              "      <td>17.599400</td>\n",
              "      <td>18.993827</td>\n",
              "      <td>36.538009</td>\n",
              "    </tr>\n",
              "    <tr>\n",
              "      <th>mse</th>\n",
              "      <td>0.000000</td>\n",
              "      <td>309.738878</td>\n",
              "      <td>360.765452</td>\n",
              "      <td>1335.026136</td>\n",
              "    </tr>\n",
              "    <tr>\n",
              "      <th>mean</th>\n",
              "      <td>155.293277</td>\n",
              "      <td>142.399639</td>\n",
              "      <td>140.577496</td>\n",
              "      <td>126.590412</td>\n",
              "    </tr>\n",
              "  </tbody>\n",
              "</table>\n",
              "</div>"
            ],
            "text/plain": [
              "          Target       HWAMS       HWAAS         TBAT\n",
              "rmse    0.000000   17.599400   18.993827    36.538009\n",
              "mse     0.000000  309.738878  360.765452  1335.026136\n",
              "mean  155.293277  142.399639  140.577496   126.590412"
            ]
          },
          "metadata": {
            "tags": []
          },
          "execution_count": 23
        }
      ]
    },
    {
      "cell_type": "code",
      "metadata": {
        "id": "kEiMYg9pM3Dg",
        "colab_type": "code",
        "outputId": "5d9d19a9-2d7e-460f-ff22-dec8ab563b6f",
        "colab": {
          "base_uri": "https://localhost:8080/",
          "height": 414
        }
      },
      "source": [
        "all_performance"
      ],
      "execution_count": 0,
      "outputs": [
        {
          "output_type": "execute_result",
          "data": {
            "text/html": [
              "<div>\n",
              "<style scoped>\n",
              "    .dataframe tbody tr th:only-of-type {\n",
              "        vertical-align: middle;\n",
              "    }\n",
              "\n",
              "    .dataframe tbody tr th {\n",
              "        vertical-align: top;\n",
              "    }\n",
              "\n",
              "    .dataframe thead th {\n",
              "        text-align: right;\n",
              "    }\n",
              "</style>\n",
              "<table border=\"1\" class=\"dataframe\">\n",
              "  <thead>\n",
              "    <tr style=\"text-align: right;\">\n",
              "      <th></th>\n",
              "      <th>rmse</th>\n",
              "      <th>mse</th>\n",
              "      <th>mean</th>\n",
              "    </tr>\n",
              "  </thead>\n",
              "  <tbody>\n",
              "    <tr>\n",
              "      <th>ensemble_lgb__X__HWAMS</th>\n",
              "      <td>9.697588</td>\n",
              "      <td>94.043213</td>\n",
              "      <td>146.719412</td>\n",
              "    </tr>\n",
              "    <tr>\n",
              "      <th>ensemble_lgb__X__HWAMS__X__HWAMS_HWAAS__X__ensemble_ts__X__HWAAS</th>\n",
              "      <td>9.875212</td>\n",
              "      <td>97.519817</td>\n",
              "      <td>145.250837</td>\n",
              "    </tr>\n",
              "    <tr>\n",
              "      <th>ensemble_lgb__X__HWAMS__X__HWAMS_HWAAS</th>\n",
              "      <td>11.127326</td>\n",
              "      <td>123.817378</td>\n",
              "      <td>142.994374</td>\n",
              "    </tr>\n",
              "    <tr>\n",
              "      <th>ensemble_lgb</th>\n",
              "      <td>12.748526</td>\n",
              "      <td>162.524907</td>\n",
              "      <td>156.487208</td>\n",
              "    </tr>\n",
              "    <tr>\n",
              "      <th>ensemble_lgb__X__HWAMS__X__HWAMS_HWAAS__X__ensemble_ts__X__HWAAS__X__HWAMS_HWAAS_TBAT__X__TBAT</th>\n",
              "      <td>14.589155</td>\n",
              "      <td>212.843442</td>\n",
              "      <td>138.615567</td>\n",
              "    </tr>\n",
              "    <tr>\n",
              "      <th>HWAMS</th>\n",
              "      <td>15.567905</td>\n",
              "      <td>242.359663</td>\n",
              "      <td>136.951615</td>\n",
              "    </tr>\n",
              "    <tr>\n",
              "      <th>HWAMS_HWAAS</th>\n",
              "      <td>16.651370</td>\n",
              "      <td>277.268110</td>\n",
              "      <td>135.544299</td>\n",
              "    </tr>\n",
              "    <tr>\n",
              "      <th>ensemble_ts</th>\n",
              "      <td>17.255107</td>\n",
              "      <td>297.738716</td>\n",
              "      <td>163.134079</td>\n",
              "    </tr>\n",
              "    <tr>\n",
              "      <th>HWAAS</th>\n",
              "      <td>17.804066</td>\n",
              "      <td>316.984751</td>\n",
              "      <td>134.136983</td>\n",
              "    </tr>\n",
              "    <tr>\n",
              "      <th>HWAMS_HWAAS_TBAT</th>\n",
              "      <td>23.358758</td>\n",
              "      <td>545.631579</td>\n",
              "      <td>128.785846</td>\n",
              "    </tr>\n",
              "    <tr>\n",
              "      <th>TBAT</th>\n",
              "      <td>39.003864</td>\n",
              "      <td>1521.301380</td>\n",
              "      <td>115.268940</td>\n",
              "    </tr>\n",
              "  </tbody>\n",
              "</table>\n",
              "</div>"
            ],
            "text/plain": [
              "                                                         rmse  ...        mean\n",
              "ensemble_lgb__X__HWAMS                               9.697588  ...  146.719412\n",
              "ensemble_lgb__X__HWAMS__X__HWAMS_HWAAS__X__ense...   9.875212  ...  145.250837\n",
              "ensemble_lgb__X__HWAMS__X__HWAMS_HWAAS              11.127326  ...  142.994374\n",
              "ensemble_lgb                                        12.748526  ...  156.487208\n",
              "ensemble_lgb__X__HWAMS__X__HWAMS_HWAAS__X__ense...  14.589155  ...  138.615567\n",
              "HWAMS                                               15.567905  ...  136.951615\n",
              "HWAMS_HWAAS                                         16.651370  ...  135.544299\n",
              "ensemble_ts                                         17.255107  ...  163.134079\n",
              "HWAAS                                               17.804066  ...  134.136983\n",
              "HWAMS_HWAAS_TBAT                                    23.358758  ...  128.785846\n",
              "TBAT                                                39.003864  ...  115.268940\n",
              "\n",
              "[11 rows x 3 columns]"
            ]
          },
          "metadata": {
            "tags": []
          },
          "execution_count": 17
        }
      ]
    },
    {
      "cell_type": "code",
      "metadata": {
        "id": "qV6SQPQASIRQ",
        "colab_type": "code",
        "outputId": "2f6d4300-8849-4716-a77b-0dd573a41162",
        "colab": {
          "base_uri": "https://localhost:8080/",
          "height": 296
        }
      },
      "source": [
        "all_ensemble_in[[\"Target\",\"ensemble_lgb__X__HWAMS\",\"HWAMS\",\"HWAAS\"]].plot()"
      ],
      "execution_count": 0,
      "outputs": [
        {
          "output_type": "execute_result",
          "data": {
            "text/plain": [
              "<matplotlib.axes._subplots.AxesSubplot at 0x7f42f01de470>"
            ]
          },
          "metadata": {
            "tags": []
          },
          "execution_count": 18
        },
        {
          "output_type": "display_data",
          "data": {
            "image/png": "[encoded data removed]",
            "text/plain": [
              "<Figure size 792x288 with 1 Axes>"
            ]
          },
          "metadata": {
            "tags": []
          }
        }
      ]
    },
    {
      "cell_type": "code",
      "metadata": {
        "id": "3esRD1G_SZQC",
        "colab_type": "code",
        "outputId": "3637f0dc-76db-426e-d689-f8bfaef9831c",
        "colab": {
          "base_uri": "https://localhost:8080/",
          "height": 298
        }
      },
      "source": [
        "all_ensemble_out[[\"ensemble_lgb__X__HWAMS\",\"HWAMS\",\"HWAAS\"]].plot()"
      ],
      "execution_count": 0,
      "outputs": [
        {
          "output_type": "execute_result",
          "data": {
            "text/plain": [
              "<matplotlib.axes._subplots.AxesSubplot at 0x7f42d40747b8>"
            ]
          },
          "metadata": {
            "tags": []
          },
          "execution_count": 20
        },
        {
          "output_type": "display_data",
          "data": {
            "image/png": "[encoded data removed]",
            "text/plain": [
              "<Figure size 792x288 with 1 Axes>"
            ]
          },
          "metadata": {
            "tags": []
          }
        }
      ]
    },
    {
      "cell_type": "code",
      "metadata": {
        "id": "7mkc1snQaJf6",
        "colab_type": "code",
        "outputId": "d5fa83a7-ba8a-4770-9b73-3e4a78e1ab42",
        "colab": {
          "base_uri": "https://localhost:8080/",
          "height": 69
        }
      },
      "source": [
        "am.models_dict_in"
      ],
      "execution_count": 0,
      "outputs": [
        {
          "output_type": "execute_result",
          "data": {
            "text/plain": [
              "{'HWAAS': <statsmodels.tsa.holtwinters.HoltWintersResultsWrapper at 0x7f42f7822d30>,\n",
              " 'HWAMS': <statsmodels.tsa.holtwinters.HoltWintersResultsWrapper at 0x7f42f77fff60>,\n",
              " 'TBAT': <tbats.tbats.Model.Model at 0x7f42d3aab048>}"
            ]
          },
          "metadata": {
            "tags": []
          },
          "execution_count": 21
        }
      ]
    },
    {
      "cell_type": "code",
      "metadata": {
        "id": "csb7BOy0b_Ff",
        "colab_type": "code",
        "outputId": "14021e61-441c-45a4-88b4-f4e973666bba",
        "colab": {
          "base_uri": "https://localhost:8080/",
          "height": 69
        }
      },
      "source": [
        "am.models_dict_out"
      ],
      "execution_count": 0,
      "outputs": [
        {
          "output_type": "execute_result",
          "data": {
            "text/plain": [
              "{'HWAAS': <statsmodels.tsa.holtwinters.HoltWintersResultsWrapper at 0x7f9c01309278>,\n",
              " 'HWAMS': <statsmodels.tsa.holtwinters.HoltWintersResultsWrapper at 0x7f9c01309cf8>,\n",
              " 'TBAT': <tbats.tbats.Model.Model at 0x7f9c08f18ba8>}"
            ]
          },
          "metadata": {
            "tags": []
          },
          "execution_count": 7
        }
      ]
    },
    {
      "cell_type": "code",
      "metadata": {
        "id": "skg2Y0nNvkSd",
        "colab_type": "code",
        "colab": {}
      },
      "source": [
        ""
      ],
      "execution_count": 0,
      "outputs": []
    }
  ]
}